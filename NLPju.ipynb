{
 "cells": [
  {
   "cell_type": "markdown",
   "id": "a2dc3a15",
   "metadata": {},
   "source": [
    "#Ερώτημα Α Παραδοτέο 1"
   ]
  },
  {
   "cell_type": "code",
   "execution_count": null,
   "id": "1d16e5c9",
   "metadata": {},
   "outputs": [
    {
     "name": "stdout",
     "output_type": "stream",
     "text": [
      "Sentence first: a Today is our dragon of boat of festival , in our Chinese culture , to celebrate it with all safe and great\n",
      "Sentence second: Anyway , I believe the team , although a bit delayed and less communication in recent days ,\n"
     ]
    }
   ],
   "source": [
    "from transformers import AutoModelForSeq2SeqLM,AutoTokenizer # για το paraphrasing\n",
    "from nltk.tokenize import TreebankWordTokenizer\n",
    "import spacy\n",
    "\n",
    "nlp=spacy.load(\"en_core_web_sm\")\n",
    "\n",
    "tokenizerNLTK=TreebankWordTokenizer()\n",
    "\n",
    "\n",
    "#Εργαλείο για αναδιατύπωση για την αναδιατύπωση\n",
    "tokenizer=AutoTokenizer.from_pretrained(\"Vamsi/T5_Paraphrase_Paws\")\n",
    "model=AutoModelForSeq2SeqLM.from_pretrained(\"Vamsi/T5_Paraphrase_Paws\")\n",
    "\n",
    "#Αρχικοποίηση προτάσεων\n",
    "sentence_first=\"Today is our dragon boat festival, in our Chinese culture, to celebrate it with all safe and great in our lives.\"\n",
    "sentence_second=\"Anyway, I believe the team, although bit delay and less communication at recent days, they really tried best for paper and cooperation.\"\n",
    "\n",
    "def getTags(text):\n",
    "    wordTag=nlp(text)\n",
    "    return [(token.text,token.tag_) for token in wordTag]\n",
    "\n",
    "def correct_grammar(text):\n",
    "    #Διαχωρισμός του κειμένου σε tokens\n",
    "    tokens=tokenizerNLTK.tokenize(text)\n",
    "    \n",
    "    #Βρισκούμε το μέρος του λόγου κάθε λέξης\n",
    "    tag=getTags(text)\n",
    "    \n",
    "    correct=[]\n",
    "    counter=0\n",
    "    \n",
    "    while counter<len(tag):\n",
    "        #Πρόσβαση στην λέξη και τι μέρος του λόγου είναι\n",
    "        word,t=tag[counter] \n",
    "        \n",
    "        #Κανόνας Πρώτος αν δεν πρόταση ξεκινά με ουσιαστικό χωρίς άρθρο\n",
    "        if t==\"NN\" and counter==0:\n",
    "            correct.append(\"a\")\n",
    "            correct.append(word)\n",
    "        #Εφαρμοφή δεύτερου κανόνα αν έχουμε ουσιαστικό που ακολουθεί άλλο ουσιαστικό χωρίς σύνδεση\n",
    "        elif t==\"NN\" and tag[counter-1][1] not in [\"DT\",\"JJ\"]:\n",
    "            #Αν υπάρχει πριν ουσιαστικό, θέλουμε σύνδεση\n",
    "            if tag[counter-1][1]==\"NN\":\n",
    "                correct.append(\"of\")\n",
    "                correct.append(word)\n",
    "            else:\n",
    "                correct.append(word)\n",
    "        #Εφαρμογή τρίτου κάνονα αν βρούμε at και έχουμε χρονική λέξη\n",
    "        elif word.lower()==\"at\" and counter+1<len(tag):\n",
    "            nextWord,nextTag=tag[counter+1]\n",
    "            if nextWord.lower() in [\"recent\",\"next\",\"past\"]:\n",
    "                correct.append(\"in\")\n",
    "            else:\n",
    "                correct.append(word)\n",
    "        else:\n",
    "            #Δεν βρίσκεται κάποιος κανόνας\n",
    "            correct.append(word)\n",
    "        counter+=1\n",
    "    return \" \".join(correct)\n",
    "\n",
    "def paraphrase(text):\n",
    "    #Προσθέτουμε την οδηγία->αναδιατύπωση\n",
    "    input=f\"paraphrase:{text}</s>\"\n",
    "    \n",
    "    #Δημιουργία tokens\n",
    "    tokens=tokenizer.encode(input,return_tensors=\"pt\")\n",
    "    \n",
    "    #Δημιουργία απάντησης\n",
    "    paraphrase_text=model.generate(\n",
    "        tokens,\n",
    "        no_repeat_ngram_size=2,#Αποφευγεί να πεί την ίδια ακολουθία\n",
    "        num_beams=5,\n",
    "        early_stopping=True,\n",
    "    )\n",
    "    \n",
    "    return tokenizer.decode(paraphrase_text[0],skip_special_tokens=True)\n",
    "\n",
    "grammarCorrect1=paraphrase(sentence_first)\n",
    "correct_sentence1=correct_grammar(grammarCorrect1)\n",
    "print(\"Sentence first:\",correct_sentence1)\n",
    "    \n",
    "grammarCorrect2=paraphrase(sentence_second)\n",
    "correct_sentence2=correct_grammar(grammarCorrect2)\n",
    "print(\"Sentence second:\",correct_sentence2)"
   ]
  },
  {
   "cell_type": "markdown",
   "id": "86a03fd6",
   "metadata": {},
   "source": [
    "#Ερώτημα Β Παραδοτέο 1 "
   ]
  },
  {
   "cell_type": "markdown",
   "id": "7a9c37a9",
   "metadata": {},
   "source": [
    "#Υλοποιήση Κειμένου 1"
   ]
  },
  {
   "cell_type": "code",
   "execution_count": null,
   "id": "e2cb9c06",
   "metadata": {},
   "outputs": [
    {
     "name": "stdout",
     "output_type": "stream",
     "text": [
      "WARNING:tensorflow:From C:\\Users\\User\\AppData\\Roaming\\Python\\Python312\\site-packages\\tf_keras\\src\\losses.py:2976: The name tf.losses.sparse_softmax_cross_entropy is deprecated. Please use tf.compat.v1.losses.sparse_softmax_cross_entropy instead.\n",
      "\n"
     ]
    },
    {
     "name": "stderr",
     "output_type": "stream",
     "text": [
      "Device set to use cpu\n"
     ]
    },
    {
     "name": "stdout",
     "output_type": "stream",
     "text": [
      "method Bart: Thank your message to show our words to the doctor, as his next contract checking, to all of us. Today is our dragon boat festival, in our Chinese culture, to celebrate it with all safe and great in our lives. I am very appreciated the full support of the                professor, for our Springer proceedings publication.\n"
     ]
    }
   ],
   "source": [
    "from transformers import pipeline\n",
    "\n",
    "#Φορτώνουμε τον pipline paraphraser bart\n",
    "paraphraserBart=pipeline(\"text2text-generation\",model=\"facebook/bart-large-cnn\")\n",
    "\n",
    "text=\"\"\"Today is our dragon boat festival, in our Chinese culture, to celebrate it with all safe and great in\n",
    "our lives. Hope you too, to enjoy it as my deepest wishes.\n",
    "Thank your message to show our words to the doctor, as his next contract checking, to all of us.\n",
    "I got this message to see the approved message. In fact, I have received the message from the\n",
    "professor, to show me, this, a couple of days ago. I am very appreciated the full support of the\n",
    "professor, for our Springer proceedings publication\"\"\"\n",
    "\n",
    "paraphraseText=paraphraserBart(text,max_length=256,do_sample=True)#Παραγωγή ποικιλία\n",
    "print(\"method Bart:\",paraphraseText[0]['generated_text'])"
   ]
  },
  {
   "cell_type": "code",
   "execution_count": null,
   "id": "428d154b",
   "metadata": {},
   "outputs": [
    {
     "name": "stderr",
     "output_type": "stream",
     "text": [
      "You are using the default legacy behaviour of the <class 'transformers.models.t5.tokenization_t5.T5Tokenizer'>. This is expected, and simply means that the `legacy` (previous) behavior will be used so nothing changes for you. If you want to use the new behaviour, set `legacy=False`. This should only be set if you understand what it means, and thoroughly read the reason why this was added as explained in https://github.com/huggingface/transformers/pull/24565\n",
      "Device set to use cpu\n"
     ]
    },
    {
     "name": "stdout",
     "output_type": "stream",
     "text": [
      "method T5: Today is our Dragon Boat Festival, in our Chinese cultures, to celebrate it with all the other safe and great in our lives; hope that will also be yours to enjoy it as my deepest wishes. Thank for your message to show our words to the doctor, as his next contract checking, to all of us; I also received the message from the professor to show me this, a couple of days ago.\n"
     ]
    }
   ],
   "source": [
    "from transformers import pipeline\n",
    "\n",
    "#Φόρτωση \n",
    "paraphraserT5=pipeline(\"text2text-generation\",model=\"Vamsi/T5_Paraphrase_Paws\")\n",
    "\n",
    "text=\"\"\"Today is our dragon boat festival, in our Chinese culture, to celebrate it with all safe and great in\n",
    "our lives. Hope you too, to enjoy it as my deepest wishes.\n",
    "Thank your message to show our words to the doctor, as his next contract checking, to all of us.\n",
    "I got this message to see the approved message. In fact, I have received the message from the\n",
    "professor, to show me, this, a couple of days ago. I am very appreciated the full support of the\n",
    "professor, for our Springer proceedings publication\"\"\"\n",
    "\n",
    "#Υπόδειξη task\n",
    "inputText=\"paraphrase: \"+text\n",
    "out=paraphraserT5(inputText,max_length=256,do_sample=True)\n",
    "print(\"method T5:\",out[0]['generated_text'])"
   ]
  },
  {
   "cell_type": "code",
   "execution_count": 17,
   "id": "d51227d8",
   "metadata": {},
   "outputs": [
    {
     "name": "stderr",
     "output_type": "stream",
     "text": [
      "Some weights of PegasusForConditionalGeneration were not initialized from the model checkpoint at google/pegasus-xsum and are newly initialized: ['model.decoder.embed_positions.weight', 'model.encoder.embed_positions.weight']\n",
      "You should probably TRAIN this model on a down-stream task to be able to use it for predictions and inference.\n",
      "Device set to use cpu\n"
     ]
    },
    {
     "name": "stdout",
     "output_type": "stream",
     "text": [
      "method Pegasus: Today is our Dragon Boat Festival, in our Chinese cultures, to celebrate it with all the other safe and great in our lives; hope that will also be yours to enjoy it as my deepest wishes. Thank for your message to show our words to the doctor, as his next contract checking, to all of us; I also received the message from the professor to show me this, a couple of days ago.\n"
     ]
    }
   ],
   "source": [
    "from transformers import pipeline\n",
    "\n",
    "#Φόρτωση \n",
    "paraphraserPegasus=pipeline(\"text2text-generation\",model=\"google/pegasus-xsum\")\n",
    "\n",
    "text=\"\"\"Today is our dragon boat festival, in our Chinese culture, to celebrate it with all safe and great in\n",
    "our lives. Hope you too, to enjoy it as my deepest wishes.\n",
    "Thank your message to show our words to the doctor, as his next contract checking, to all of us.\n",
    "I got this message to see the approved message. In fact, I have received the message from the\n",
    "professor, to show me, this, a couple of days ago. I am very appreciated the full support of the\n",
    "professor, for our Springer proceedings publication\"\"\"\n",
    "\n",
    "output=paraphraserPegasus(text,max_length=256,do_sample=True)\n",
    "print(\"method Pegasus:\",out[0]['generated_text'])"
   ]
  },
  {
   "cell_type": "markdown",
   "id": "461fd27d",
   "metadata": {},
   "source": [
    "#Υλοποιήση Κειμένου 2"
   ]
  },
  {
   "cell_type": "code",
   "execution_count": 1,
   "id": "b0902bee",
   "metadata": {},
   "outputs": [
    {
     "name": "stderr",
     "output_type": "stream",
     "text": [
      "c:\\Users\\User\\AppData\\Local\\Programs\\Python\\Python312\\Lib\\site-packages\\tqdm\\auto.py:21: TqdmWarning: IProgress not found. Please update jupyter and ipywidgets. See https://ipywidgets.readthedocs.io/en/stable/user_install.html\n",
      "  from .autonotebook import tqdm as notebook_tqdm\n"
     ]
    },
    {
     "name": "stdout",
     "output_type": "stream",
     "text": [
      "WARNING:tensorflow:From C:\\Users\\User\\AppData\\Roaming\\Python\\Python312\\site-packages\\tf_keras\\src\\losses.py:2976: The name tf.losses.sparse_softmax_cross_entropy is deprecated. Please use tf.compat.v1.losses.sparse_softmax_cross_entropy instead.\n",
      "\n"
     ]
    },
    {
     "name": "stderr",
     "output_type": "stream",
     "text": [
      "Device set to use cpu\n"
     ]
    },
    {
     "name": "stdout",
     "output_type": "stream",
     "text": [
      "method Bart: I believe the team, although bit delay and less communication at recent days, they really tried best for paper and cooperation. We should be grateful, I mean all of us, for the acceptance and efforts until the Springer link came finally last week, I think. Please remind me please, if the doctor still plan for the acknowledgments section edit before sending again. Because I didn’t see that part final yet, or maybe I missed, I apologize if so.\n"
     ]
    }
   ],
   "source": [
    "from transformers import pipeline\n",
    "\n",
    "#Φορτώνουμε τον pipline paraphraser bart\n",
    "paraphraserBart=pipeline(\"text2text-generation\",model=\"facebook/bart-large-cnn\")\n",
    "\n",
    "text=\"\"\"During our final discuss, I told him about the new submission — the one we were waiting since\n",
    "last autumn, but the updates was confusing as it not included the full feedback from reviewer or\n",
    "maybe editor?\n",
    "Anyway, I believe the team, although bit delay and less communication at recent days, they really\n",
    "tried best for paper and cooperation. We should be grateful, I mean all of us, for the acceptance\n",
    "and efforts until the Springer link came finally last week, I think.\n",
    "Also, kindly remind me please, if the doctor still plan for the acknowledgments section edit before\n",
    "he sending again. Because I didn't see that part final yet, or maybe I missed, I apologize if so.\n",
    "Overall, let us make sure all are safe and celebrate the outcome with strong coffee and future\n",
    "targets\"\"\"\n",
    "\n",
    "paraphraseText=paraphraserBart(text,max_length=256,do_sample=True)\n",
    "print(\"method Bart:\",paraphraseText[0]['generated_text'])"
   ]
  },
  {
   "cell_type": "code",
   "execution_count": 1,
   "id": "bc4231f1",
   "metadata": {},
   "outputs": [
    {
     "name": "stderr",
     "output_type": "stream",
     "text": [
      "c:\\Users\\User\\AppData\\Local\\Programs\\Python\\Python312\\Lib\\site-packages\\tqdm\\auto.py:21: TqdmWarning: IProgress not found. Please update jupyter and ipywidgets. See https://ipywidgets.readthedocs.io/en/stable/user_install.html\n",
      "  from .autonotebook import tqdm as notebook_tqdm\n"
     ]
    },
    {
     "name": "stdout",
     "output_type": "stream",
     "text": [
      "WARNING:tensorflow:From C:\\Users\\User\\AppData\\Roaming\\Python\\Python312\\site-packages\\tf_keras\\src\\losses.py:2976: The name tf.losses.sparse_softmax_cross_entropy is deprecated. Please use tf.compat.v1.losses.sparse_softmax_cross_entropy instead.\n",
      "\n"
     ]
    },
    {
     "name": "stderr",
     "output_type": "stream",
     "text": [
      "You are using the default legacy behaviour of the <class 'transformers.models.t5.tokenization_t5.T5Tokenizer'>. This is expected, and simply means that the `legacy` (previous) behavior will be used so nothing changes for you. If you want to use the new behaviour, set `legacy=False`. This should only be set if you understand what it means, and thoroughly read the reason why this was added as explained in https://github.com/huggingface/transformers/pull/24565\n",
      "Device set to use cpu\n"
     ]
    },
    {
     "name": "stdout",
     "output_type": "stream",
     "text": [
      "method T5: When we went to our final discussion, I sent him the new submission — the one we were waiting on since last autumn , but the updates were confusing , as it did not include all the full feedback from the reviewer or maybe the editor ? Anyway , I would like to thank the Team for the acceptance and efforts until Springer Link finally arrived last week , I can ask for feedback if the doctor still plan for the acknowledgement section before sending . Because I did not see that part final yet, or maybe I missed it\n"
     ]
    }
   ],
   "source": [
    "from transformers import pipeline\n",
    "\n",
    "#Φόρτωση \n",
    "paraphraserT5=pipeline(\"text2text-generation\",model=\"Vamsi/T5_Paraphrase_Paws\")\n",
    "\n",
    "text=\"\"\"During our final discuss, I told him about the new submission — the one we were waiting since\n",
    "last autumn, but the updates was confusing as it not included the full feedback from reviewer or\n",
    "maybe editor?\n",
    "Anyway, I believe the team, although bit delay and less communication at recent days, they really\n",
    "tried best for paper and cooperation. We should be grateful, I mean all of us, for the acceptance\n",
    "and efforts until the Springer link came finally last week, I think.\n",
    "Also, kindly remind me please, if the doctor still plan for the acknowledgments section edit before\n",
    "he sending again. Because I didn't see that part final yet, or maybe I missed, I apologize if so.\n",
    "Overall, let us make sure all are safe and celebrate the outcome with strong coffee and future\n",
    "targets\"\"\"\n",
    "\n",
    "\n",
    "inputText=\"paraphrase: \"+text\n",
    "out=paraphraserT5(inputText,max_length=256,do_sample=True)\n",
    "print(\"method T5:\",out[0]['generated_text'])"
   ]
  },
  {
   "cell_type": "code",
   "execution_count": 2,
   "id": "76a14d1b",
   "metadata": {},
   "outputs": [
    {
     "name": "stderr",
     "output_type": "stream",
     "text": [
      "Some weights of PegasusForConditionalGeneration were not initialized from the model checkpoint at google/pegasus-xsum and are newly initialized: ['model.decoder.embed_positions.weight', 'model.encoder.embed_positions.weight']\n",
      "You should probably TRAIN this model on a down-stream task to be able to use it for predictions and inference.\n",
      "Device set to use cpu\n"
     ]
    },
    {
     "name": "stdout",
     "output_type": "stream",
     "text": [
      "method Pegasus: When we went to our final discussion, I sent him the new submission — the one we were waiting on since last autumn , but the updates were confusing , as it did not include all the full feedback from the reviewer or maybe the editor ? Anyway , I would like to thank the Team for the acceptance and efforts until Springer Link finally arrived last week , I can ask for feedback if the doctor still plan for the acknowledgement section before sending . Because I did not see that part final yet, or maybe I missed it\n"
     ]
    }
   ],
   "source": [
    "from transformers import pipeline\n",
    "\n",
    "#Φόρτωση \n",
    "paraphraserPegasus=pipeline(\"text2text-generation\",model=\"google/pegasus-xsum\")\n",
    "\n",
    "text=\"\"\"During our final discuss, I told him about the new submission — the one we were waiting since\n",
    "last autumn, but the updates was confusing as it not included the full feedback from reviewer or\n",
    "maybe editor?\n",
    "Anyway, I believe the team, although bit delay and less communication at recent days, they really\n",
    "tried best for paper and cooperation. We should be grateful, I mean all of us, for the acceptance\n",
    "and efforts until the Springer link came finally last week, I think.\n",
    "Also, kindly remind me please, if the doctor still plan for the acknowledgments section edit before\n",
    "he sending again. Because I didn't see that part final yet, or maybe I missed, I apologize if so.\n",
    "Overall, let us make sure all are safe and celebrate the outcome with strong coffee and future\n",
    "targets\"\"\"\n",
    "\n",
    "output=paraphraserPegasus(text,max_length=256,do_sample=True)\n",
    "print(\"method Pegasus:\",out[0]['generated_text'])"
   ]
  },
  {
   "cell_type": "markdown",
   "id": "2a406a5e",
   "metadata": {},
   "source": [
    "#Ερώτημα C Παραδοτέο 1 "
   ]
  },
  {
   "cell_type": "markdown",
   "id": "59c96dfe",
   "metadata": {},
   "source": [
    "#Υλοποίηση κειμένου 1"
   ]
  },
  {
   "cell_type": "code",
   "execution_count": null,
   "id": "b51f0a2a",
   "metadata": {},
   "outputs": [
    {
     "name": "stderr",
     "output_type": "stream",
     "text": [
      "c:\\Users\\User\\AppData\\Local\\Programs\\Python\\Python312\\Lib\\site-packages\\tqdm\\auto.py:21: TqdmWarning: IProgress not found. Please update jupyter and ipywidgets. See https://ipywidgets.readthedocs.io/en/stable/user_install.html\n",
      "  from .autonotebook import tqdm as notebook_tqdm\n"
     ]
    },
    {
     "name": "stdout",
     "output_type": "stream",
     "text": [
      "calculating scores...\n",
      "computing bert embedding.\n"
     ]
    },
    {
     "name": "stderr",
     "output_type": "stream",
     "text": [
      "100%|██████████| 1/1 [00:03<00:00,  3.77s/it]\n"
     ]
    },
    {
     "name": "stdout",
     "output_type": "stream",
     "text": [
      "computing greedy matching.\n"
     ]
    },
    {
     "name": "stderr",
     "output_type": "stream",
     "text": [
      "100%|██████████| 1/1 [00:00<00:00, 16.17it/s]\n"
     ]
    },
    {
     "name": "stdout",
     "output_type": "stream",
     "text": [
      "done in 3.85 seconds, 0.26 sentences/sec\n",
      "calculating scores...\n",
      "computing bert embedding.\n"
     ]
    },
    {
     "name": "stderr",
     "output_type": "stream",
     "text": [
      "100%|██████████| 1/1 [00:00<00:00,  1.06it/s]\n"
     ]
    },
    {
     "name": "stdout",
     "output_type": "stream",
     "text": [
      "computing greedy matching.\n"
     ]
    },
    {
     "name": "stderr",
     "output_type": "stream",
     "text": [
      "100%|██████████| 1/1 [00:00<00:00, 10.13it/s]\n"
     ]
    },
    {
     "name": "stdout",
     "output_type": "stream",
     "text": [
      "done in 1.06 seconds, 0.94 sentences/sec\n",
      "calculating scores...\n",
      "computing bert embedding.\n"
     ]
    },
    {
     "name": "stderr",
     "output_type": "stream",
     "text": [
      "100%|██████████| 1/1 [00:01<00:00,  1.08s/it]\n"
     ]
    },
    {
     "name": "stdout",
     "output_type": "stream",
     "text": [
      "computing greedy matching.\n"
     ]
    },
    {
     "name": "stderr",
     "output_type": "stream",
     "text": [
      "100%|██████████| 1/1 [00:00<00:00, 335.01it/s]"
     ]
    },
    {
     "name": "stdout",
     "output_type": "stream",
     "text": [
      "done in 1.10 seconds, 0.91 sentences/sec\n",
      "   Methods  BERTScore\n",
      "0     Bart   0.848044\n",
      "1       T5   0.838575\n",
      "2  Pegasus   0.838575\n"
     ]
    },
    {
     "name": "stderr",
     "output_type": "stream",
     "text": [
      "\n"
     ]
    }
   ],
   "source": [
    "from bert_score import score\n",
    "import pandas as pd\n",
    "\n",
    "originalText=[\"\"\"Today is our dragon boat festival, in our Chinese culture, to celebrate it with all safe and great in\n",
    "our lives. Hope you too, to enjoy it as my deepest wishes.\n",
    "Thank your message to show our words to the doctor, as his next contract checking, to all of us.\n",
    "I got this message to see the approved message. In fact, I have received the message from the\n",
    "professor, to show me, this, a couple of days ago. I am very appreciated the full support of the\n",
    "professor, for our Springer proceedings publication\"\"\"]\n",
    "\n",
    "bartText=[\"\"\"Thank your message to show our words to the doctor, as his next contract checking, to all of us. Today is our dragon boat festival, in our Chinese culture, to celebrate it with all safe and great in our lives. I am very appreciated the full support of the                professor, for our Springer proceedings publication.\"\"\"]\n",
    "t5Text=[\"\"\"Today is our Dragon Boat Festival, in our Chinese cultures, to celebrate it with all the other safe and great in our lives; hope that will also be yours to enjoy it as my deepest wishes. Thank for your message to show our words to the doctor, as his next contract checking, to all of us; I also received the message from the professor to show me this, a couple of days ago.\"\"\"]\n",
    "pegasusText=[\"\"\"Today is our Dragon Boat Festival, in our Chinese cultures, to celebrate it with all the other safe and great in our lives; hope that will also be yours to enjoy it as my deepest wishes. Thank for your message to show our words to the doctor, as his next contract checking, to all of us; I also received the message from the professor to show me this, a couple of days ago.\"\"\"]\n",
    "\n",
    "#Θα υπολογίσουμε τα score\n",
    "P2,R2,F2=score(bartText,originalText,lang=\"en\",verbose=True,model_type=\"bert-base-uncased\")\n",
    "P3,R3,F3=score(t5Text,originalText,lang=\"en\",verbose=True,model_type=\"bert-base-uncased\")\n",
    "P4,R4,F4=score(pegasusText,originalText,lang=\"en\",verbose=True,model_type=\"bert-base-uncased\")\n",
    "\n",
    "#Δημιουργία Πίνακα Αποτελεσμάτων\n",
    "table=pd.DataFrame(\n",
    "    {\n",
    "        \"Methods\":[\"Bart\",\"T5\",\"Pegasus\"],\n",
    "        \"BERTScore\":[F2[0].item(),F3[0].item(),F4[0].item()]\n",
    "    }\n",
    ")\n",
    "print(table)"
   ]
  },
  {
   "cell_type": "markdown",
   "id": "8465cf7c",
   "metadata": {},
   "source": [
    "#Υλοποιήση κειμένου 2"
   ]
  },
  {
   "cell_type": "code",
   "execution_count": null,
   "id": "7737c902",
   "metadata": {},
   "outputs": [
    {
     "name": "stdout",
     "output_type": "stream",
     "text": [
      "calculating scores...\n",
      "computing bert embedding.\n"
     ]
    },
    {
     "name": "stderr",
     "output_type": "stream",
     "text": [
      "100%|██████████| 1/1 [00:00<00:00,  1.20it/s]\n"
     ]
    },
    {
     "name": "stdout",
     "output_type": "stream",
     "text": [
      "computing greedy matching.\n"
     ]
    },
    {
     "name": "stderr",
     "output_type": "stream",
     "text": [
      "100%|██████████| 1/1 [00:00<?, ?it/s]\n"
     ]
    },
    {
     "name": "stdout",
     "output_type": "stream",
     "text": [
      "done in 0.84 seconds, 1.19 sentences/sec\n",
      "calculating scores...\n",
      "computing bert embedding.\n"
     ]
    },
    {
     "name": "stderr",
     "output_type": "stream",
     "text": [
      "100%|██████████| 1/1 [00:02<00:00,  2.48s/it]\n"
     ]
    },
    {
     "name": "stdout",
     "output_type": "stream",
     "text": [
      "computing greedy matching.\n"
     ]
    },
    {
     "name": "stderr",
     "output_type": "stream",
     "text": [
      "100%|██████████| 1/1 [00:00<00:00, 22.45it/s]\n"
     ]
    },
    {
     "name": "stdout",
     "output_type": "stream",
     "text": [
      "done in 2.55 seconds, 0.39 sentences/sec\n",
      "calculating scores...\n",
      "computing bert embedding.\n"
     ]
    },
    {
     "name": "stderr",
     "output_type": "stream",
     "text": [
      "100%|██████████| 1/1 [00:01<00:00,  1.45s/it]\n"
     ]
    },
    {
     "name": "stdout",
     "output_type": "stream",
     "text": [
      "computing greedy matching.\n"
     ]
    },
    {
     "name": "stderr",
     "output_type": "stream",
     "text": [
      "100%|██████████| 1/1 [00:00<?, ?it/s]"
     ]
    },
    {
     "name": "stdout",
     "output_type": "stream",
     "text": [
      "done in 1.47 seconds, 0.68 sentences/sec\n",
      "   Methods  BERTScore\n",
      "0     Bart   0.828705\n",
      "1       T5   0.757840\n",
      "2  Pegasus   0.757840\n"
     ]
    },
    {
     "name": "stderr",
     "output_type": "stream",
     "text": [
      "\n"
     ]
    }
   ],
   "source": [
    "from bert_score import score\n",
    "import pandas as pd\n",
    "\n",
    "originalText=[\"\"\"During our final discuss, I told him about the new submission — the one we were waiting since\n",
    "last autumn, but the updates was confusing as it not included the full feedback from reviewer or\n",
    "maybe editor?\n",
    "Anyway, I believe the team, although bit delay and less communication at recent days, they really\n",
    "tried best for paper and cooperation. We should be grateful, I mean all of us, for the acceptance\n",
    "and efforts until the Springer link came finally last week, I think.\n",
    "Also, kindly remind me please, if the doctor still plan for the acknowledgments section edit before\n",
    "he sending again. Because I didn't see that part final yet, or maybe I missed, I apologize if so.\n",
    "Overall, let us make sure all are safe and celebrate the outcome with strong coffee and future\n",
    "targets\"\"\"]\n",
    "\n",
    "bartText=[\"\"\"I believe the team, although bit delay and less communication at recent days, they really tried best for paper and cooperation. We should be grateful, I mean all of us, for the acceptance and efforts until the Springer link came finally last week, I think. Please remind me please, if the doctor still plan for the acknowledgments section edit before sending again. Because I didn’t see that part final yet, or maybe I missed, I apologize if so.\"\"\"]\n",
    "t5Text=[\"\"\"When we went to our final discussion, I sent him the new submission — the one we were waiting on since last autumn , but the updates were confusing , as it did not include all the full feedback from the reviewer or maybe the editor ? Anyway , I would like to thank the Team for the acceptance and efforts until Springer Link finally arrived last week , I can ask for feedback if the doctor still plan for the acknowledgement section before sending . Because I did not see that part final yet, or maybe I missed it\"\"\"]\n",
    "pegasusText=[\"\"\"When we went to our final discussion, I sent him the new submission — the one we were waiting on since last autumn , but the updates were confusing , as it did not include all the full feedback from the reviewer or maybe the editor ? Anyway , I would like to thank the Team for the acceptance and efforts until Springer Link finally arrived last week , I can ask for feedback if the doctor still plan for the acknowledgement section before sending . Because I did not see that part final yet, or maybe I missed it\"\"\"]\n",
    "\n",
    "#Θα υπολογίσουμε τα score\n",
    "P2,R2,F2=score(bartText,originalText,lang=\"en\",verbose=True,model_type=\"bert-base-uncased\")\n",
    "P3,R3,F3=score(t5Text,originalText,lang=\"en\",verbose=True,model_type=\"bert-base-uncased\")\n",
    "P4,R4,F4=score(pegasusText,originalText,lang=\"en\",verbose=True,model_type=\"bert-base-uncased\")\n",
    "\n",
    "#Δημιουργία Πίνακα Αποτελεσμάτων\n",
    "table=pd.DataFrame(\n",
    "    {\n",
    "        \"Methods\":[\"Bart\",\"T5\",\"Pegasus\"],\n",
    "        \"BERTScore\":[F2[0].item(),F3[0].item(),F4[0].item()]\n",
    "    }\n",
    ")\n",
    "print(table)"
   ]
  },
  {
   "cell_type": "markdown",
   "id": "4411f59f",
   "metadata": {},
   "source": [
    "#Παραδοτέο 2:Υπολογιστική Ανάλυση"
   ]
  },
  {
   "cell_type": "code",
   "execution_count": null,
   "id": "04a90892",
   "metadata": {},
   "outputs": [
    {
     "name": "stderr",
     "output_type": "stream",
     "text": [
      "From C:\\Users\\User\\AppData\\Roaming\\Python\\Python312\\site-packages\\tf_keras\\src\\losses.py:2976: The name tf.losses.sparse_softmax_cross_entropy is deprecated. Please use tf.compat.v1.losses.sparse_softmax_cross_entropy instead.\n",
      "\n"
     ]
    },
    {
     "name": "stdout",
     "output_type": "stream",
     "text": [
      "First sentence similarity:0.9\n",
      "Second sentence similarity:1.0\n"
     ]
    }
   ],
   "source": [
    "#Θα υπολογίσουμε για το (1Α)-->προτάσεις\n",
    "\n",
    "from sentence_transformers import SentenceTransformer\n",
    "from sklearn.metrics.pairwise import cosine_similarity\n",
    "import math\n",
    "\n",
    "#Φόρτωση μόντέλου\n",
    "model=SentenceTransformer('all-MiniLM-L6-v2')\n",
    "\n",
    "#Περνάμε τις προτάσεις\n",
    "text1=\"Today is our dragon boat festival, in our Chinese culture, to celebrate it with all safe and great in our lives.\"\n",
    "paraphrase_text1=\" a Today is our dragon of boat of festival , in our Chinese culture , to celebrate it with all safe and great\"\n",
    "\n",
    "text2=\"Anyway, I believe the team, although bit delay and less communication at recent days, they really tried best for paper and cooperation.\"\n",
    "paraphrase_text2=\" Anyway , I believe the team , although a bit delayed and less communication in recent days ,\"\n",
    "\n",
    "#Μετατροπή σε διανυσματικές αναπαραστάσεις\n",
    "emb1=model.encode([text1,paraphrase_text1])\n",
    "emb2=model.encode([text2,paraphrase_text2])\n",
    "\n",
    "\n",
    "#Υπολογισμός βαθμολογίας συνημίτονου\n",
    "similarity1=cosine_similarity([emb1[0],emb1[1]])[0][0]\n",
    "similarity2=cosine_similarity([emb2[0],emb2[1]])[0][0]\n",
    "\n",
    "#εμφάνιση μόνο πρώτου δεκαδικού ψηφιού\n",
    "print(f\"First sentence similarity:{math.floor(similarity1*10)/10}\")\n",
    "print(f\"Second sentence similarity:{math.floor(similarity2*10)/10}\")"
   ]
  },
  {
   "cell_type": "code",
   "execution_count": 19,
   "id": "cf25d2c5",
   "metadata": {},
   "outputs": [
    {
     "name": "stdout",
     "output_type": "stream",
     "text": [
      "Text similarity method Bart:0.9\n",
      "Text similarity method T5:0.9\n",
      "Text similarity method Pegasus:0.9\n"
     ]
    }
   ],
   "source": [
    "#Ομοιότητα για (1Β)--->κείμενα\n",
    "\n",
    "\n",
    "#Περνάμε τα κείμενα (1)\n",
    "originalText=\"\"\"Today is our dragon boat festival, in our Chinese culture, to celebrate it with all safe and great in\n",
    "our lives. Hope you too, to enjoy it as my deepest wishes.\n",
    "Thank your message to show our words to the doctor, as his next contract checking, to all of us.\n",
    "I got this message to see the approved message. In fact, I have received the message from the\n",
    "professor, to show me, this, a couple of days ago. I am very appreciated the full support of the\n",
    "professor, for our Springer proceedings publication\"\"\"\n",
    "\n",
    "paraphraseTextBart=\"Thank your message to show our words to the doctor, as his next contract checking, to all of us. Today is our dragon boat festival, in our Chinese culture, to celebrate it with all safe and great in our lives. I am very appreciated the full support of the                professor, for our Springer proceedings publication.\"\n",
    "paraphraseTextT5=\"When we went to our final discussion, I sent him the new submission — the one we were waiting on since last autumn , but the updates were confusing , as it did not include all the full feedback from the reviewer or maybe the editor ? Anyway , I would like to thank the Team for the acceptance and efforts until Springer Link finally arrived last week , I can ask for feedback if the doctor still plan for the acknowledgement section before sending . Because I did not see that part final yet, or maybe I missed it\"\n",
    "paraphraseTextPegasus=\"Today is our Dragon Boat Festival, in our Chinese cultures, to celebrate it with all the other safe and great in our lives; hope that will also be yours to enjoy it as my deepest wishes. Thank for your message to show our words to the doctor, as his next contract checking, to all of us; I also received the message from the professor to show me this, a couple of days ago.\"\n",
    "#Μετατροπή για να κατανοήτη στον υπολογιστή\n",
    "emb_bart=model.encode([originalText,paraphraseTextBart])\n",
    "emb_T5=model.encode([originalText,paraphraseTextT5])\n",
    "emb_pegasus=model.encode([originalText,paraphraseTextPegasus])\n",
    "\n",
    "\n",
    "#Υπολογισμός βαθμολογίας συνημίτονου\n",
    "similarityBART=cosine_similarity([emb_bart[0],emb_bart[1]])[0][0]\n",
    "similarityT5=cosine_similarity([emb_T5[0],emb_T5[1]])[0][0]\n",
    "similarityPegasus=cosine_similarity([emb_pegasus[0],emb_pegasus[1]])[0][0]\n",
    "\n",
    "print(f\"Text similarity method Bart:{math.floor(similarityBART*10)/10}\")\n",
    "print(f\"Text similarity method T5:{math.floor(similarityT5*10)/10}\")\n",
    "print(f\"Text similarity method Pegasus:{math.floor(similarityPegasus*10)/10}\")\n",
    "\n"
   ]
  },
  {
   "cell_type": "markdown",
   "id": "fbbcb77e",
   "metadata": {},
   "source": [
    "#Οπτικοποίηση\n"
   ]
  },
  {
   "cell_type": "code",
   "execution_count": null,
   "id": "813e2599",
   "metadata": {},
   "outputs": [
    {
     "data": {
      "image/png": "[encoded data removed]",
      "text/plain": [
       "<Figure size 800x600 with 1 Axes>"
      ]
     },
     "metadata": {},
     "output_type": "display_data"
    }
   ],
   "source": [
    "from sentence_transformers import SentenceTransformer\n",
    "from sklearn.decomposition import PCA\n",
    "import matplotlib.pyplot as plt #για σχεδιασμό\n",
    "\n",
    "model=SentenceTransformer('all-MiniLM-L6-v2')\n",
    "\n",
    "#Δημιουργία λιστών \n",
    "listOftexts=[\n",
    "    \"\"\"Today is our dragon boat festival, in our Chinese culture, to celebrate it with all safe and great in\n",
    "our lives. Hope you too, to enjoy it as my deepest wishes.\n",
    "Thank your message to show our words to the doctor, as his next contract checking, to all of us.\n",
    "I got this message to see the approved message. In fact, I have received the message from the\n",
    "professor, to show me, this, a couple of days ago. I am very appreciated the full support of the\n",
    "professor, for our Springer proceedings publication\"\"\",\n",
    "    \"Thank your message to show our words to the doctor, as his next contract checking, to all of us. Today is our dragon boat festival, in our Chinese culture, to celebrate it with all safe and great in our lives. I am very appreciated the full support of the                professor, for our Springer proceedings publication.\",\n",
    "    \"When we went to our final discussion, I sent him the new submission — the one we were waiting on since last autumn , but the updates were confusing , as it did not include all the full feedback from the reviewer or maybe the editor ? Anyway , I would like to thank the Team for the acceptance and efforts until Springer Link finally arrived last week , I can ask for feedback if the doctor still plan for the acknowledgement section before sending . Because I did not see that part final yet, or maybe I missed it\",\n",
    "    \"Today is our Dragon Boat Festival, in our Chinese cultures, to celebrate it with all the other safe and great in our lives; hope that will also be yours to enjoy it as my deepest wishes. Thank for your message to show our words to the doctor, as his next contract checking, to all of us; I also received the message from the professor to show me this, a couple of days ago.\"\n",
    "]\n",
    "\n",
    "#Δημιουργία διανυσματικών αναπαραστάσεων\n",
    "vectorRepre=model.encode(listOftexts) #Κάθε vector έχει 384 διαστάσεις\n",
    "\n",
    "#Μείωση διαστάσεων μέσω PCA\n",
    "pca=PCA(n_components=2)\n",
    "#Μετατροπή\n",
    "reducedVector=pca.fit_transform(vectorRepre)\n",
    "\n",
    "#Δημιουργία διαγράμματος πλαισού 8*6\n",
    "plt.figure(figsize=(8,6))\n",
    "#προσβάση στους άξονες-->διάγραμμα διασπόρας\n",
    "plt.scatter(reducedVector[:,0],reducedVector[:,1])\n",
    "\n",
    "types=[\"original\",\"bart\",\"T5\",\"Pegasus\"]\n",
    "#Προσθήκη ετικετών\n",
    "for i, text in enumerate(listOftexts):\n",
    "    #Τοποθέτηση ονόματος στις συντεταγμένες\n",
    "    plt.annotate(types[i],(reducedVector[i,0],reducedVector[i,1]))\n",
    "    \n",
    "plt.title(\"PCA text A:\")\n",
    "plt.show()"
   ]
  },
  {
   "cell_type": "markdown",
   "id": "2608049f",
   "metadata": {},
   "source": [
    "#Εφαρμογή ίδιας λειτουργίας για το κείμενο 2"
   ]
  },
  {
   "cell_type": "code",
   "execution_count": 12,
   "id": "82bf8379",
   "metadata": {},
   "outputs": [
    {
     "name": "stdout",
     "output_type": "stream",
     "text": [
      "Text similarity method Bart:1.0\n",
      "Text similarity method T5:1.0\n",
      "Text similarity method Pegasus:1.0\n"
     ]
    }
   ],
   "source": [
    "#Ομοιότητα για (1Β)--->κείμενα\n",
    "from sentence_transformers import SentenceTransformer\n",
    "from sklearn.metrics.pairwise import cosine_similarity\n",
    "import math\n",
    "\n",
    "model=SentenceTransformer('all-MiniLM-L6-v2')\n",
    "\n",
    "#Περνάμε τα κείμενα (2)\n",
    "originalText=\"\"\"During our final discuss, I told him about the new submission — the one we were waiting since\n",
    "last autumn, but the updates was confusing as it not included the full feedback from reviewer or\n",
    "maybe editor?\n",
    "Anyway, I believe the team, although bit delay and less communication at recent days, they really\n",
    "tried best for paper and cooperation. We should be grateful, I mean all of us, for the acceptance\n",
    "and efforts until the Springer link came finally last week, I think.\n",
    "Also, kindly remind me please, if the doctor still plan for the acknowledgments section edit before\n",
    "he sending again. Because I didn't see that part final yet, or maybe I missed, I apologize if so.\n",
    "Overall, let us make sure all are safe and celebrate the outcome with strong coffee and future\n",
    "targets\"\"\"\n",
    "\n",
    "paraphraseTextBart=\"I believe the team, although bit delay and less communication at recent days, they really tried best for paper and cooperation. We should be grateful, I mean all of us, for the acceptance and efforts until the Springer link came finally last week, I think. Please remind me please, if the doctor still plan for the acknowledgments section edit before sending again. Because I didn't see that part final yet, or maybe I missed, I apologize if so.\"\n",
    "paraphraseTextT5=\"When we went to our final discussion, I sent him the new submission — the one we were waiting on since last autumn , but the updates were confusing , as it did not include all the full feedback from the reviewer or maybe the editor ? Anyway , I would like to thank the Team for the acceptance and efforts until Springer Link finally arrived last week , I can ask for feedback if the doctor still plan for the acknowledgement section before sending . Because I did not see that part final yet, or maybe I missed it\"\n",
    "paraphraseTextPegasus=\"When we went to our final discussion, I sent him the new submission — the one we were waiting on since last autumn , but the updates were confusing , as it did not include all the full feedback from the reviewer or maybe the editor ? Anyway , I would like to thank the Team for the acceptance and efforts until Springer Link finally arrived last week , I can ask for feedback if the doctor still plan for the acknowledgement section before sending . Because I did not see that part final yet, or maybe I missed it\"\n",
    "#Μετατροπή για να κατανοήτη στον υπολογιστή\n",
    "emb_bart=model.encode([originalText,paraphraseTextBart])\n",
    "emb_T5=model.encode([originalText,paraphraseTextT5])\n",
    "emb_pegasus=model.encode([originalText,paraphraseTextPegasus])\n",
    "\n",
    "\n",
    "#Υπολογισμός βαθμολογίας συνημίτονου\n",
    "similarityBART=cosine_similarity([emb_bart[0],emb_bart[1]])[0][0]\n",
    "similarityT5=cosine_similarity([emb_T5[0],emb_T5[1]])[0][0]\n",
    "similarityPegasus=cosine_similarity([emb_pegasus[0],emb_pegasus[1]])[0][0]\n",
    "\n",
    "print(f\"Text similarity method Bart:{math.floor(similarityBART*10)/10}\")\n",
    "print(f\"Text similarity method T5:{math.floor(similarityT5*10)/10}\")\n",
    "print(f\"Text similarity method Pegasus:{math.floor(similarityPegasus*10)/10}\")"
   ]
  },
  {
   "cell_type": "code",
   "execution_count": 15,
   "id": "fc0f61fb",
   "metadata": {},
   "outputs": [
    {
     "data": {
      "image/png": "[encoded data removed]",
      "text/plain": [
       "<Figure size 800x600 with 1 Axes>"
      ]
     },
     "metadata": {},
     "output_type": "display_data"
    }
   ],
   "source": [
    "#Οπτικοποίση\n",
    "#Δημιουργία λιστών \n",
    "listOftexts=[\n",
    "    \"\"\"During our final discuss, I told him about the new submission — the one we were waiting since\n",
    "last autumn, but the updates was confusing as it not included the full feedback from reviewer or\n",
    "maybe editor?\n",
    "Anyway, I believe the team, although bit delay and less communication at recent days, they really\n",
    "tried best for paper and cooperation. We should be grateful, I mean all of us, for the acceptance\n",
    "and efforts until the Springer link came finally last week, I think.\n",
    "Also, kindly remind me please, if the doctor still plan for the acknowledgments section edit before\n",
    "he sending again. Because I didn't see that part final yet, or maybe I missed, I apologize if so.\n",
    "Overall, let us make sure all are safe and celebrate the outcome with strong coffee and future\n",
    "targets\"\"\",\n",
    "    \"I believe the team, although bit delay and less communication at recent days, they really tried best for paper and cooperation. We should be grateful, I mean all of us, for the acceptance and efforts until the Springer link came finally last week, I think. Please remind me please, if the doctor still plan for the acknowledgments section edit before sending again. Because I didn’t see that part final yet, or maybe I missed, I apologize if so.\",\n",
    "    \"When we went to our final discussion, I sent him the new submission — the one we were waiting on since last autumn , but the updates were confusing , as it did not include all the full feedback from the reviewer or maybe the editor ? Anyway , I would like to thank the Team for the acceptance and efforts until Springer Link finally arrived last week , I can ask for feedback if the doctor still plan for the acknowledgement section before sending . Because I did not see that part final yet, or maybe I missed it\",\n",
    "    \"When we went to our final discussion, I sent him the new submission — the one we were waiting on since last autumn , but the updates were confusing , as it did not include all the full feedback from the reviewer or maybe the editor ? Anyway , I would like to thank the Team for the acceptance and efforts until Springer Link finally arrived last week , I can ask for feedback if the doctor still plan for the acknowledgement section before sending . Because I did not see that part final yet, or maybe I missed it\"\n",
    "]\n",
    "\n",
    "#Δημιουργία διανυσματικών αναπαραστάσεων\n",
    "vectorRepre=model.encode(listOftexts)\n",
    "\n",
    "#Μείωση διαστάσεων μέσω PCA\n",
    "pca=PCA(n_components=2)\n",
    "reducedVector=pca.fit_transform(vectorRepre)\n",
    "\n",
    "#Δημιουργία διαγράμματος\n",
    "plt.figure(figsize=(8,6))\n",
    "plt.scatter(reducedVector[:,0],reducedVector[:,1])\n",
    "\n",
    "types=[\"original\",\"bart\",\"T5\",\"Pegasus\"]\n",
    "#Προσθήκη ετικετών\n",
    "for i, text in enumerate(listOftexts):\n",
    "    #Τοποθέτηση ονόματος\n",
    "    plt.annotate(types[i],(reducedVector[i,0],reducedVector[i,1]))\n",
    "    \n",
    "plt.title(\"PCA text B:\")\n",
    "plt.show()"
   ]
  }
 ],
 "metadata": {
  "kernelspec": {
   "display_name": "Python 3",
   "language": "python",
   "name": "python3"
  },
  "language_info": {
   "codemirror_mode": {
    "name": "ipython",
    "version": 3
   },
   "file_extension": ".py",
   "mimetype": "text/x-python",
   "name": "python",
   "nbconvert_exporter": "python",
   "pygments_lexer": "ipython3",
   "version": "3.12.3"
  }
 },
 "nbformat": 4,
 "nbformat_minor": 5
}
